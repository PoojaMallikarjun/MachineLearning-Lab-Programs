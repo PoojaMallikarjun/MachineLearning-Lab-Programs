{
 "cells": [
  {
   "cell_type": "code",
   "execution_count": null,
   "metadata": {},
   "outputs": [],
   "source": [
    "from sklearn.datasets import fetch_20newsgroups\n",
    "from sklearn.metrics import confusion_matrix, classification_report, accuracy_score\n",
    "import numpy as np\n",
    "from sklearn.feature_extraction.text import CountVectorizer\n",
    "from sklearn.naive_bayes import MultinomialNB\n",
    "print(\"hello\")\n",
    "\n",
    "twenty_train = fetch_20newsgroups(subset='train',shuffle=True)\n",
    "\n",
    "categories = twenty_train.target_names[:4]\n",
    "twenty_train = fetch_20newsgroups(subset='train',categories=categories,shuffle=True)\n",
    "twenty_test = fetch_20newsgroups(subset='test',categories=categories,shuffle=True)\n",
    "\n",
    "tfidf_transformer = CountVectorizer()\n",
    "X_train_tfidf = tfidf_transformer.fit_transform(twenty_train.data)\n",
    "\n",
    "mod = MultinomialNB()\n",
    "mod.fit(X_train_tfidf, twenty_train.target)\n",
    "\n",
    "X_test_tfidf = tfidf_transformer.transform(twenty_test.data)\n",
    "predicted = mod.predict(X_test_tfidf)\n",
    "\n",
    "print(\"Accuracy:\", accuracy_score(twenty_test.target, predicted)*100)\n",
    "print(classification_report(twenty_test.target,predicted,target_names=twenty_test.target_names))\n",
    "print(\"confusion matrix is \\n\",confusion_matrix(twenty_test.target, predicted))"
   ]
  },
  {
   "cell_type": "code",
   "execution_count": null,
   "metadata": {},
   "outputs": [],
   "source": []
  }
 ],
 "metadata": {
  "kernelspec": {
   "display_name": "Python 3",
   "language": "python",
   "name": "python3"
  },
  "language_info": {
   "codemirror_mode": {
    "name": "ipython",
    "version": 3
   },
   "file_extension": ".py",
   "mimetype": "text/x-python",
   "name": "python",
   "nbconvert_exporter": "python",
   "pygments_lexer": "ipython3",
   "version": "3.8.5"
  }
 },
 "nbformat": 4,
 "nbformat_minor": 4
}
